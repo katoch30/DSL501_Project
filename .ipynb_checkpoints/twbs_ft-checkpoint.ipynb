{
 "cells": [
  {
   "cell_type": "code",
   "execution_count": null,
   "id": "2b1a82cc",
   "metadata": {},
   "outputs": [],
   "source": [
    "import torch\n",
    "from transformers import AutoModelForCausalLM, AutoTokenizer, BitsAndBytesConfig, TrainingArguments\n",
    "from peft import LoraConfig, get_peft_model, prepare_model_for_kbit_training\n",
    "from trl import SFTTrainer\n",
    "from datasets import Dataset\n",
    "import os "
   ]
  },
  {
   "cell_type": "code",
   "execution_count": null,
   "id": "ca6dec7e",
   "metadata": {},
   "outputs": [],
   "source": [
    "model_id = \"/data3/ritika_project/TowerBase-7B-v0.1\"\n",
    "\n",
    "# The name for our new, fine-tuned model adapter\n",
    "new_model_name = \"towerbase-7b-english-to-french\"\n",
    "output_base_dir = \"/data3/ritika_project/towerbase_training_output\"\n",
    "# Create the directory if it doesn't exist\n",
    "os.makedirs(output_base_dir, exist_ok=True)"
   ]
  },
  {
   "cell_type": "code",
   "execution_count": null,
   "id": "9dbf2d0f",
   "metadata": {},
   "outputs": [],
   "source": [
    "bnb_config = BitsAndBytesConfig(\n",
    "    load_in_4bit=True,\n",
    "    bnb_4bit_quant_type=\"nf4\",\n",
    "    bnb_4bit_compute_dtype=torch.bfloat16,\n",
    "    bnb_4bit_use_double_quant=True,\n",
    ")\n",
    "\n",
    "print(f\"Loading base model from: {model_id}\")\n",
    "model = AutoModelForCausalLM.from_pretrained(\n",
    "    model_id,\n",
    "    quantization_config=bnb_config,\n",
    "    device_map=\"auto\",\n",
    "    trust_remote_code=True,\n",
    ")\n",
    "tokenizer = AutoTokenizer.from_pretrained(model_id, trust_remote_code=True, use_fast=False)\n",
    "tokenizer.pad_token = tokenizer.eos_token\n",
    "tokenizer.padding_side = \"right\" \n",
    "print(\"Base model loaded.\")"
   ]
  },
  {
   "cell_type": "code",
   "execution_count": null,
   "id": "40f79dae",
   "metadata": {},
   "outputs": [],
   "source": [
    "model.gradient_checkpointing_enable(gradient_checkpointing_kwargs={\"use_reentrant\": False})\n",
    "model = prepare_model_for_kbit_training(model)\n",
    "\n",
    "# LoRA configuration (these settings are generally model-agnostic)\n",
    "lora_config = LoraConfig(\n",
    "    r=16,\n",
    "    lora_alpha=32,\n",
    "    target_modules=[\"q_proj\", \"k_proj\", \"v_proj\", \"o_proj\", \"gate_proj\", \"up_proj\", \"down_proj\"],\n",
    "    lora_dropout=0.05,\n",
    "    bias=\"none\",\n",
    "    task_type=\"CAUSAL_LM\",\n",
    ")\n",
    "\n",
    "model = get_peft_model(model, lora_config)\n",
    "print(\"Model prepared for QLoRA training.\")"
   ]
  },
  {
   "cell_type": "code",
   "execution_count": null,
   "id": "f2a62f94",
   "metadata": {},
   "outputs": [],
   "source": [
    "def load_translation_dataset(en_path, fr_path):\n",
    "    \"\"\"\n",
    "    Loads parallel data assuming line-by-line alignment between the two files.\n",
    "    \"\"\"\n",
    "    if not os.path.exists(en_path):\n",
    "        raise FileNotFoundError(f\"English data file not found at: {en_path}\")\n",
    "    if not os.path.exists(fr_path):\n",
    "        raise FileNotFoundError(f\"French data file not found at: {fr_path}\")\n",
    "\n",
    "    print(f\"Reading English file from {en_path}...\")\n",
    "    with open(en_path, 'r', encoding='utf-8') as f:\n",
    "        en_lines = [line.strip() for line in f]\n",
    "\n",
    "    print(f\"Reading French file from {fr_path}...\")\n",
    "    with open(fr_path, 'r', encoding='utf-8') as f:\n",
    "        fr_lines = [line.strip() for line in f]\n",
    "\n",
    "    if len(en_lines) != len(fr_lines):\n",
    "        raise ValueError(\n",
    "            f\"The number of lines in the English and French files do not match. \"\n",
    "            f\"English: {len(en_lines)}, French: {len(fr_lines)}\"\n",
    "        )\n",
    "\n",
    "    data = []\n",
    "    print(f\"Creating {len(en_lines)} instruction pairs...\")\n",
    "    for i in range(len(en_lines)):\n",
    "        en_text = en_lines[i]\n",
    "        fr_text = fr_lines[i]\n",
    "        if en_text and fr_text:\n",
    "            data.append({\n",
    "                \"instruction\": en_text,\n",
    "                \"response\": fr_text\n",
    "            })\n",
    "            \n",
    "    return data"
   ]
  },
  {
   "cell_type": "code",
   "execution_count": null,
   "id": "a4a6da5b",
   "metadata": {},
   "outputs": [],
   "source": [
    "def create_prompt_format(sample):\n",
    "    \"\"\"Creates a formatted prompt string from a dataset sample.\"\"\"\n",
    "    return f\"English:\\n{sample['instruction']}\\nFrench:\\n{sample['response']}\"\n",
    "\n",
    "# Your training data paths remain the same\n",
    "train_en_path = \"/data3/ritika/data/raw/train_100h_txt/train/train.en\"\n",
    "train_fr_path = \"/data3/ritika/data/raw/train_100h_txt/train/train.fr\"\n",
    "\n",
    "training_data = load_translation_dataset(train_en_path, train_fr_path)\n",
    "print(f\"Loaded {len(training_data)} samples.\")\n",
    "\n",
    "dataset = Dataset.from_list(training_data)\n",
    "formatted_dataset = dataset.map(lambda sample: {'text': create_prompt_format(sample)})\n"
   ]
  },
  {
   "cell_type": "code",
   "execution_count": null,
   "id": "ebd69dbf",
   "metadata": {},
   "outputs": [],
   "source": [
    "training_args = TrainingArguments(\n",
    "    output_dir=f\"{output_base_dir}/results_translation\",\n",
    "    per_device_train_batch_size=16, \n",
    "    gradient_accumulation_steps=1,\n",
    "    optim=\"paged_adamw_32bit\",\n",
    "    save_steps=100,\n",
    "    save_total_limit=2,\n",
    "    logging_steps=10, \n",
    "    learning_rate=2e-5,\n",
    "    weight_decay=0.001,\n",
    "    fp16=False,\n",
    "    bf16=True,\n",
    "    max_grad_norm=0.3,\n",
    "    num_train_epochs=3,\n",
    "    warmup_ratio=0.03,\n",
    "    group_by_length=True,\n",
    "    lr_scheduler_type=\"cosine\",\n",
    ")\n",
    "\n",
    "trainer = SFTTrainer(\n",
    "    model=model,\n",
    "    train_dataset=formatted_dataset,\n",
    "    peft_config=lora_config,\n",
    "    dataset_text_field=\"text\",\n",
    "    max_seq_length=512,\n",
    "    tokenizer=tokenizer,\n",
    "    args=training_args,\n",
    "    packing=False,\n",
    ")"
   ]
  },
  {
   "cell_type": "code",
   "execution_count": null,
   "id": "01424ab0",
   "metadata": {},
   "outputs": [],
   "source": [
    "print(\"Starting training on the custom translation dataset...\")\n",
    "# Use resume_from_checkpoint=True if you need to continue a stopped training run\n",
    "trainer.train(resume_from_checkpoint=True)\n",
    "print(\"Training complete.\")"
   ]
  },
  {
   "cell_type": "code",
   "execution_count": null,
   "id": "fb0a5286",
   "metadata": {},
   "outputs": [],
   "source": [
    "final_model_path = f\"{output_base_dir}/{new_model_name}\"\n",
    "print(f\"Saving fine-tuned model adapter to {final_model_path}\")\n",
    "trainer.model.save_pretrained(final_model_path, safe_serialization=True)\n",
    "print(\"Model adapter saved.\")"
   ]
  }
 ],
 "metadata": {
  "kernelspec": {
   "display_name": "towerbase-qlora",
   "language": "python",
   "name": "python3"
  },
  "language_info": {
   "name": "python",
   "version": "3.10.18"
  }
 },
 "nbformat": 4,
 "nbformat_minor": 5
}
